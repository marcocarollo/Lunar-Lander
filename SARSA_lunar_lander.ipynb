{
 "cells": [
  {
   "cell_type": "code",
   "execution_count": 1,
   "metadata": {},
   "outputs": [],
   "source": [
    "import gymnasium as gym\n",
    "import asyncio\n",
    "import time\n",
    "import scipy\n",
    "import numpy as np\n",
    "from matplotlib import pyplot as plt\n",
    "from src.utils import *\n",
    "from src.SARSA_lander import *"
   ]
  },
  {
   "cell_type": "code",
   "execution_count": 2,
   "metadata": {},
   "outputs": [],
   "source": [
    "env = gym.make(\"LunarLander-v2\")"
   ]
  },
  {
   "cell_type": "markdown",
   "metadata": {},
   "source": [
    "## SARSA"
   ]
  },
  {
   "cell_type": "markdown",
   "metadata": {},
   "source": [
    "#### Data collection and hyperparameters tuning\n",
    "Outputs are kept to have an example of the training process.\n",
    "\n",
    "Checkpoints of the training are printed due to the long time it takes to train the agent."
   ]
  },
  {
   "cell_type": "code",
   "execution_count": null,
   "metadata": {},
   "outputs": [],
   "source": [
    "observation_space = (7, 5, 5, 5, 5, 5, 2, 2)\n",
    "n_episodes = 8000\n",
    "lam = [0, 0.5, 0.8]\n",
    "epsilon0 = [0.2, 0.5]\n",
    "k_e = [0.0000001, 0.0001]\n",
    "k_l = [0.0000001, 0.0001]\n",
    "for e in epsilon0:\n",
    "    for k_lr in k_l:\n",
    "        for k_ in k_e:\n",
    "            for l in lam:\n",
    "                sarsa = SARSA(env, space_size=observation_space, action_size=4, gamma=1)\n",
    "                sarsa.train(n_episodes=n_episodes, lambda_=l, epsilon_0=e, k_epsilon=k_, k_lr=k_lr)\n",
    "                sarsa.plot_traj(cumulative=True, local=True, save_img=True)\n",
    "                sarsa.analyse(n_episodes=2000)\n"
   ]
  },
  {
   "cell_type": "markdown",
   "metadata": {},
   "source": [
    "#### GIF generation\n",
    "Generate an episode with the trained agent and save it as a gif (there's *a bit* of initial selection bias to have a nicer gif)."
   ]
  },
  {
   "cell_type": "code",
   "execution_count": null,
   "metadata": {},
   "outputs": [],
   "source": [
    "observation_space = (7, 5, 5, 5, 5, 5, 2, 2)\n",
    "# test\n",
    "env_test = gym.make('LunarLander-v2')\n",
    "n_episodes = 100\n",
    "performance_traj = np.zeros(n_episodes)\n",
    "for i in range(n_episodes):\n",
    "    \n",
    "    state = env_test.reset(seed=i)[0]\n",
    "    state = discretize_state(state, observation_space)\n",
    "    done = False\n",
    "    while not done:\n",
    "        action = get_action_epsilon_greedy(sarsa.Qvalues, state, 0, 4)\n",
    "        next_state, reward, truncated, terminated, _ = env_test.step(action)\n",
    "        done = terminated or truncated\n",
    "        performance_traj[i] += reward\n",
    "        next_state = discretize_state(next_state, observation_space)\n",
    "        state = next_state\n",
    "best = np.argmax(performance_traj)\n",
    "print(\"best episode: \", best)\n",
    "print(\"best performance: \", performance_traj[best])\n",
    "env_test.close()\n"
   ]
  },
  {
   "cell_type": "code",
   "execution_count": null,
   "metadata": {},
   "outputs": [],
   "source": [
    "from PIL import Image\n",
    "\n",
    "observation_space = (7, 5, 5, 5, 5, 5, 2, 2)\n",
    "# test\n",
    "env_test = gym.make('LunarLander-v2', render_mode=\"rgb_array\")\n",
    "frames = []\n",
    "state = env_test.reset(seed=91)[0] #best episode found in the first 100 seeds\n",
    "state = discretize_state(state, observation_space)\n",
    "done = False\n",
    "while not done:\n",
    "    action = get_action_epsilon_greedy(q_learning.Qvalues, state, 0, 4) #change 0 to 1 to see random agent\n",
    "    next_state, reward, truncated, terminated, _ = env_test.step(action)\n",
    "    done = terminated or truncated\n",
    "    next_state = discretize_state(next_state, observation_space)\n",
    "    state = next_state\n",
    "    frames.append(env_test.render())\n",
    "\n",
    "env_test.close()\n",
    "imgs = [Image.fromarray(img) for img in frames]\n",
    "# duration is the number of milliseconds between frames; this is 40 frames per second\n",
    "imgs[0].save(\"gifs/ESARSA.gif\", save_all=True, append_images=imgs[1:],duration = 50, loop=0)\n"
   ]
  }
 ],
 "metadata": {
  "kernelspec": {
   "display_name": "rl",
   "language": "python",
   "name": "python3"
  },
  "language_info": {
   "codemirror_mode": {
    "name": "ipython",
    "version": 3
   },
   "file_extension": ".py",
   "mimetype": "text/x-python",
   "name": "python",
   "nbconvert_exporter": "python",
   "pygments_lexer": "ipython3",
   "version": "3.10.13"
  }
 },
 "nbformat": 4,
 "nbformat_minor": 2
}
